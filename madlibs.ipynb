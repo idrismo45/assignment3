{
 "cells": [
  {
   "cell_type": "code",
   "execution_count": 15,
   "metadata": {},
   "outputs": [
    {
     "name": "stdout",
     "output_type": "stream",
     "text": [
      "Here is your Mad Libs Story: \n",
      "Once upon a time, there was a football team named Chelsea. Chelsea went onto beat every single opposition team in the country. They even went on a 7 year spell of not losing a single game.  Some say it was all because of one strong, fast player, named Eden.\n"
     ]
    }
   ],
   "source": [
    "# Define the premade story template\n",
    "story_template = \"Once upon a time, there was a [sport] team named [sports team name]. [sports team name] went onto beat every single opposition team in the country. They even went on a [number] year spell of not losing a single game.  Some say it was all because of one [good adjective] and [another good adjective] player, named [name your best player].\"\n",
    "\n",
    "# Prompt the user for input\n",
    "sport = input('Enter any sport')\n",
    "team_name = input('Make up a team name')\n",
    "number_years = input('Give me a number')\n",
    "best_player_adjective1 = input('Describe your best player')\n",
    "best_player_adjective2 = input('Describe him again')\n",
    "best_player_name = input(\"What's the name of your best player?\")\n",
    "\n",
    "# Replace placeholders in the story template with user input\n",
    "story = story_template.replace('[sport]', sport)\n",
    "story = story.replace('[sports team name]', team_name)\n",
    "story = story.replace('[number]', number_years)\n",
    "story = story.replace('[good adjective]', best_player_adjective1)\n",
    "story = story.replace('[another good adjective]', best_player_adjective2)\n",
    "story = story.replace('[name your best player]', best_player_name)\n",
    "\n",
    "# Display the completed Mad Libs story\n",
    "print('Here is your Mad Libs Story: ')\n",
    "print(story)\n",
    "\n"
   ]
  },
  {
   "cell_type": "code",
   "execution_count": null,
   "metadata": {},
   "outputs": [],
   "source": []
  }
 ],
 "metadata": {
  "kernelspec": {
   "display_name": "Python 3",
   "language": "python",
   "name": "python3"
  },
  "language_info": {
   "codemirror_mode": {
    "name": "ipython",
    "version": 3
   },
   "file_extension": ".py",
   "mimetype": "text/x-python",
   "name": "python",
   "nbconvert_exporter": "python",
   "pygments_lexer": "ipython3",
   "version": "3.10.2"
  },
  "orig_nbformat": 4
 },
 "nbformat": 4,
 "nbformat_minor": 2
}
